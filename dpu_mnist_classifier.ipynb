{
 "cells": [
  {
   "cell_type": "markdown",
   "metadata": {},
   "source": [
    "# DPU example: MNIST Classifier\n",
    "\n",
    "This notebook shows how to deploy Convolutional Neural Network (CNN) model for \n",
    "hand-written digit recognition. The network was trained on the MNIST dataset,\n",
    "quantized using Vitis AI compiler tools, and deployed on the DPU.\n",
    "\n",
    "Compared to the other 3 notebooks delivered in this folder, this notebook\n",
    "shows how to deploy a **user-trained** DPU model on PYNQ image; i.e., \n",
    "the model used in this notebook does not come from the model zoo.\n",
    "Refer to [train your own DPU models](https://github.com/Xilinx/DPU-PYNQ/tree/master/host#train-your-own-dpu-models-from-scratch)\n",
    "to get more information.\n",
    "\n",
    "## 1. Prepare the overlay\n",
    "\n",
    "We will download the overlay onto the board. Then we will load the \n",
    "corresponding DPU model."
   ]
  },
  {
   "cell_type": "code",
   "execution_count": 1,
   "metadata": {},
   "outputs": [
    {
     "data": {
      "application/javascript": [
       "\n",
       "try {\n",
       "require(['notebook/js/codecell'], function(codecell) {\n",
       "  codecell.CodeCell.options_default.highlight_modes[\n",
       "      'magic_text/x-csrc'] = {'reg':[/^%%pybind11/]};\n",
       "  Jupyter.notebook.events.one('kernel_ready.Kernel', function(){\n",
       "      Jupyter.notebook.get_cells().map(function(cell){\n",
       "          if (cell.cell_type == 'code'){ cell.auto_highlight(); } }) ;\n",
       "  });\n",
       "});\n",
       "} catch (e) {};\n"
      ]
     },
     "metadata": {},
     "output_type": "display_data"
    },
    {
     "data": {
      "application/javascript": [
       "\n",
       "try {\n",
       "require(['notebook/js/codecell'], function(codecell) {\n",
       "  codecell.CodeCell.options_default.highlight_modes[\n",
       "      'magic_text/x-csrc'] = {'reg':[/^%%microblaze/]};\n",
       "  Jupyter.notebook.events.one('kernel_ready.Kernel', function(){\n",
       "      Jupyter.notebook.get_cells().map(function(cell){\n",
       "          if (cell.cell_type == 'code'){ cell.auto_highlight(); } }) ;\n",
       "  });\n",
       "});\n",
       "} catch (e) {};\n"
      ]
     },
     "metadata": {},
     "output_type": "display_data"
    }
   ],
   "source": [
    "from pynq_dpu import DpuOverlay\n",
    "overlay = DpuOverlay(\"dpu.bit\")\n",
    "overlay.load_model(\"dpu_face_binary_classifier_0.elf\")"
   ]
  },
  {
   "cell_type": "markdown",
   "metadata": {},
   "source": [
    "Let's import some libraries as well."
   ]
  },
  {
   "cell_type": "code",
   "execution_count": 2,
   "metadata": {},
   "outputs": [],
   "source": [
    "from time import time\n",
    "import numpy as np\n",
    "import mnist\n",
    "from dnndk import n2cube\n",
    "import matplotlib.pyplot as plt"
   ]
  },
  {
   "cell_type": "markdown",
   "metadata": {},
   "source": [
    "## 2. Load test data\n",
    "\n",
    "The `mnist` package enables the following data for users:\n",
    "\n",
    "* `test_images()`: returns test images stored as a numpy array. \n",
    "Each image is a grayscale 28x28 pixels, representing a digit between 0 and 9.\n",
    "* `test_labels()`: returns a list of the true labels stored as numpy array.\n",
    "\n",
    "\n",
    "There are 2 pre-processing steps we need to do to the test images \n",
    "before we can use it:\n",
    "\n",
    "1. The raw numpy array delivered by `mnist` has a data type of \n",
    "uint8 (data ranges from 0 to 255); we need to normalize the elements to \n",
    "floating-point numbers ranging from 0 to 1.\n",
    "2. The DNNDK API will expect each input sample to have 3 dimensions; \n",
    "so we need to expand the original numpy array."
   ]
  },
  {
   "cell_type": "code",
   "execution_count": 13,
   "metadata": {},
   "outputs": [
    {
     "name": "stdout",
     "output_type": "stream",
     "text": [
      "Total number of test images: 10\n",
      "  Dimension of each picture: 64x64\n"
     ]
    }
   ],
   "source": [
    "import cv2\n",
    "import os\n",
    "\n",
    "raw_data = []\n",
    "labels = []\n",
    "\n",
    "mylist = os.listdir(\"facemask-dataset\")\n",
    "\n",
    "for x in mylist:\n",
    "    mylist2 = os.listdir(\"facemask-dataset/\"+str(x))\n",
    "    label = str(x)\n",
    "    counter = 4\n",
    "    for y in mylist2:\n",
    "        try:\n",
    "            image = cv2.imread(\"facemask-dataset/\"+str(x)+\"/\"+str(y),0)\n",
    "            image = cv2.resize(image, (64,64), interpolation = cv2.INTER_AREA)\n",
    "            image = image/255.0\n",
    "            raw_data.append(image)\n",
    "            labels.append(label)\n",
    "            if(counter==0):\n",
    "                break\n",
    "            else:\n",
    "                counter=counter-1\n",
    "        except:\n",
    "            ...\n",
    "    \n",
    "raw_data = np.array(raw_data, dtype=\"float32\")\n",
    "labels = np.array(labels)  \n",
    "\n",
    "test_data = np.expand_dims(raw_data, axis=3)\n",
    "test_label = labels\n",
    "\n",
    "print(\"Total number of test images: {}\".format(test_data.shape[0]))\n",
    "print(\"  Dimension of each picture: {}x{}\".format(test_data.shape[1],\n",
    "                                                  test_data.shape[2]))"
   ]
  },
  {
   "cell_type": "code",
   "execution_count": 4,
   "metadata": {},
   "outputs": [
    {
     "data": {
      "image/png": "[encoded data removed]",
      "text/plain": [
       "<matplotlib.figure.Figure at 0x7f94c388d0>"
      ]
     },
     "metadata": {},
     "output_type": "display_data"
    }
   ],
   "source": [
    "plt.imshow(test_data[1,:,:,0], 'gray')\n",
    "plt.title('Label: {}'.format(test_label[1]))\n",
    "plt.axis('off')\n",
    "plt.show()"
   ]
  },
  {
   "cell_type": "markdown",
   "metadata": {},
   "source": [
    "## 3. Set up DPU\n",
    "\n",
    "We can set the DPU kernel name, and input/output nodes.\n",
    "These pieces of information can be found from the Vitis AI compiler output."
   ]
  },
  {
   "cell_type": "code",
   "execution_count": 5,
   "metadata": {},
   "outputs": [],
   "source": [
    "KERNEL_NAME = \"face_binary_classifier_0\"\n",
    "KERNEL_CONV_INPUT = \"conv2d_1_convolution\"\n",
    "KERNEL_FC_OUTPUT = \"output_logits_MatMul\""
   ]
  },
  {
   "cell_type": "markdown",
   "metadata": {},
   "source": [
    "Use `n2cube` to attach to the kernel driver. Load the kernel and create a task for it."
   ]
  },
  {
   "cell_type": "code",
   "execution_count": 6,
   "metadata": {},
   "outputs": [],
   "source": [
    "n2cube.dpuOpen()\n",
    "kernel = n2cube.dpuLoadKernel(KERNEL_NAME)\n",
    "task = n2cube.dpuCreateTask(kernel, 0)"
   ]
  },
  {
   "cell_type": "markdown",
   "metadata": {},
   "source": [
    "Get input and output dimensions for the task, we will use these for later computations."
   ]
  },
  {
   "cell_type": "code",
   "execution_count": 7,
   "metadata": {},
   "outputs": [],
   "source": [
    "input_len = n2cube.dpuGetInputTensorSize(task, KERNEL_CONV_INPUT)\n",
    "size = n2cube.dpuGetOutputTensorSize(task, KERNEL_FC_OUTPUT)\n",
    "channel = n2cube.dpuGetOutputTensorChannel(task, KERNEL_FC_OUTPUT)\n",
    "conf = n2cube.dpuGetOutputTensorAddress(task, KERNEL_FC_OUTPUT)\n",
    "outputScale = n2cube.dpuGetOutputTensorScale(task, KERNEL_FC_OUTPUT)"
   ]
  },
  {
   "cell_type": "markdown",
   "metadata": {},
   "source": [
    "## 4. Run DPU to make predictions\n",
    "\n",
    "We can now classify a couple of digit pictures. For each picture, \n",
    "the classification result (shown as 'Prediction') is displayed on top of \n",
    "the picture. "
   ]
  },
  {
   "cell_type": "code",
   "execution_count": 14,
   "metadata": {},
   "outputs": [
    {
     "data": {
      "image/png": "[encoded data removed]",
      "text/plain": [
       "<matplotlib.figure.Figure at 0x7f80ed98d0>"
      ]
     },
     "metadata": {},
     "output_type": "display_data"
    }
   ],
   "source": [
    "num_pics  = 10\n",
    "fix, ax = plt.subplots(1, num_pics, figsize=(12,12))\n",
    "plt.tight_layout()\n",
    "for i in range(num_pics):\n",
    "    n2cube.dpuSetInputTensorInHWCFP32(task, KERNEL_CONV_INPUT, \n",
    "                                      test_data[i], input_len)\n",
    "    n2cube.dpuRunTask(task)\n",
    "    softmax = n2cube.dpuRunSoftmax(conf, channel, size//channel, outputScale)\n",
    "    prediction = softmax.argmax()\n",
    "\n",
    "    ax[i].set_title('Prediction: {}'.format(prediction))\n",
    "    ax[i].axis('off')\n",
    "    ax[i].imshow(test_data[i,:,:,0], 'gray')"
   ]
  },
  {
   "cell_type": "markdown",
   "metadata": {},
   "source": [
    "We can also evaluate on the entire test dataset."
   ]
  },
  {
   "cell_type": "code",
   "execution_count": null,
   "metadata": {},
   "outputs": [],
   "source": [
    "total = test_data.shape[0]\n",
    "predictions = np.empty_like(test_label)\n",
    "print(\"Classifying {} digit pictures ...\".format(total))\n",
    "\n",
    "start = time()\n",
    "for i in range(total):\n",
    "    n2cube.dpuSetInputTensorInHWCFP32(task, KERNEL_CONV_INPUT,\n",
    "                                      test_data[i], input_len)\n",
    "    n2cube.dpuRunTask(task)\n",
    "    softmax = n2cube.dpuRunSoftmax(conf, channel, size//channel, outputScale)\n",
    "    predictions[i] = softmax.argmax()\n",
    "stop = time()\n",
    "correct = np.sum(predictions==test_label)\n",
    "execution_time = stop-start\n",
    "print(\"Overall accuracy: {}\".format(correct/total))\n",
    "print(\"  Execution time: {:.4f}s\".format(execution_time))\n",
    "print(\"      Throughput: {:.4f}FPS\".format(total/execution_time))"
   ]
  },
  {
   "cell_type": "markdown",
   "metadata": {},
   "source": [
    "Make sure to clean up when you are done."
   ]
  },
  {
   "cell_type": "code",
   "execution_count": null,
   "metadata": {},
   "outputs": [],
   "source": [
    "#n2cube.dpuDestroyKernel(kernel)\n",
    "#n2cube.dpuDestroyTask(task)"
   ]
  },
  {
   "cell_type": "markdown",
   "metadata": {},
   "source": [
    "Copyright (C) 2020 Xilinx, Inc"
   ]
  }
 ],
 "metadata": {
  "kernelspec": {
   "display_name": "Python 3",
   "language": "python",
   "name": "python3"
  },
  "language_info": {
   "codemirror_mode": {
    "name": "ipython",
    "version": 3
   },
   "file_extension": ".py",
   "mimetype": "text/x-python",
   "name": "python",
   "nbconvert_exporter": "python",
   "pygments_lexer": "ipython3",
   "version": "3.6.5"
  }
 },
 "nbformat": 4,
 "nbformat_minor": 4
}
